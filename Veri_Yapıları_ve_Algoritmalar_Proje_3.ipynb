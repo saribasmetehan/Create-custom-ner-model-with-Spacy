{
  "nbformat": 4,
  "nbformat_minor": 0,
  "metadata": {
    "colab": {
      "provenance": [],
      "authorship_tag": "ABX9TyO1OvnpU2i2EUFH9Ms7/m95",
      "include_colab_link": true
    },
    "kernelspec": {
      "name": "python3",
      "display_name": "Python 3"
    },
    "language_info": {
      "name": "python"
    }
  },
  "cells": [
    {
      "cell_type": "markdown",
      "metadata": {
        "id": "view-in-github",
        "colab_type": "text"
      },
      "source": [
        "<a href=\"https://colab.research.google.com/github/saribasmetehan/Create-custom-ner-model-with-Spacy/blob/main/Veri_Yap%C4%B1lar%C4%B1_ve_Algoritmalar_Proje_3.ipynb\" target=\"_parent\"><img src=\"https://colab.research.google.com/assets/colab-badge.svg\" alt=\"Open In Colab\"/></a>"
      ]
    },
    {
      "cell_type": "markdown",
      "source": [
        "# Proje 3\n",
        "[7, 5, 1, 8, 3, 6, 0, 9, 4, 2] dizisinin Binary-Search-Tree aşamalarını yazınız."
      ],
      "metadata": {
        "id": "W05AICCdRgzl"
      }
    },
    {
      "cell_type": "code",
      "execution_count": null,
      "metadata": {
        "id": "Jf0nOV4mRQYy"
      },
      "outputs": [],
      "source": [
        "#1. 7, BST'nin kök düğümü olarak seçilir.\n",
        "\n",
        "#2. 5, 7’den küçük olduğu için, 7'nin soluna yerleştirilir.\n",
        "\n",
        "#3. 1 eklenir:\n",
        "\n",
        "1, 7’den küçük ve 5’ten de küçük olduğu için, 5’in soluna yerleştirilir.\n",
        "#4. 8 eklenir:\n",
        "\n",
        "8, 7’den büyük olduğu için, 7'nin sağına yerleştirilir.\n",
        "#5. 3 eklenir:\n",
        "\n",
        "3, 7’den küçük, 5’ten küçük, ancak 1’den büyük olduğu için 1'in sağına yerleştirilir.\n",
        "#6. 6 eklenir:\n",
        "\n",
        "6, 7’den küçük, ancak 5’ten büyük olduğu için 5’in sağına yerleştirilir.\n",
        "#7. 0 eklenir:\n",
        "\n",
        "0, 7’den küçük, 5’ten küçük ve 1’den de küçük olduğu için 1’in soluna yerleştirilir.\n",
        "#8. 9 eklenir:\n",
        "\n",
        "9, 7’den ve 8’den büyük olduğu için 8’in sağına yerleştirilir.\n",
        "#9. 4 eklenir:\n",
        "\n",
        "4, 7’den, 5’ten ve 6’dan küçük, ancak 3’ten büyük olduğu için 3’ün sağına yerleştirilir.\n",
        "#10. 2 eklenir:\n",
        "\n",
        "2, 7’den, 5’ten ve 3’ten küçük, ancak 1’den büyük olduğu için 3’ün soluna yerleştirilir."
      ]
    }
  ]
}